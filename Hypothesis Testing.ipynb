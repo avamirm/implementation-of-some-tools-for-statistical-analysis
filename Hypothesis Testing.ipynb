{
 "cells": [
  {
   "cell_type": "markdown",
   "id": "233f92d3",
   "metadata": {},
   "source": [
    "# Hypothesis Testing"
   ]
  },
  {
   "cell_type": "markdown",
   "id": "ea683fcb",
   "metadata": {},
   "source": [
    "Hypothesis testing is a fundamental concept in statistics used to make decisions or inferences about a population parameter based on sample data. The process involves making assumptions about the population parameter (null hypothesis) and collecting evidence from the sample to evaluate whether those assumptions are reasonable."
   ]
  },
  {
   "cell_type": "markdown",
   "id": "a0a1103f",
   "metadata": {},
   "source": [
    "#### Importing necessary libraries"
   ]
  },
  {
   "cell_type": "code",
   "execution_count": 1,
   "id": "c9744dff",
   "metadata": {},
   "outputs": [],
   "source": [
    "import pandas as pd\n",
    "from scipy.stats import t\n",
    "from scipy.stats import ttest_ind\n",
    "import matplotlib.pyplot as plt\n",
    "import seaborn as sns"
   ]
  },
  {
   "cell_type": "markdown",
   "id": "0ffce379",
   "metadata": {},
   "source": [
    "## Unfair Coin"
   ]
  },
  {
   "cell_type": "code",
   "execution_count": null,
   "id": "559d3f63",
   "metadata": {},
   "outputs": [],
   "source": []
  },
  {
   "cell_type": "markdown",
   "id": "df88393a",
   "metadata": {},
   "source": [
    "## T-Test"
   ]
  },
  {
   "cell_type": "markdown",
   "id": "429dd2fa",
   "metadata": {},
   "source": [
    "A t-test is a statistical hypothesis test used to determine if there is a significant difference between the means of two groups. It's commonly used when you have two groups of samples and you want to know if they have different average values or if one group tends to be higher or lower than the other."
   ]
  },
  {
   "cell_type": "markdown",
   "id": "10512835",
   "metadata": {},
   "source": [
    "#### Independent Samples t-test"
   ]
  },
  {
   "cell_type": "markdown",
   "id": "fd314b17",
   "metadata": {},
   "source": [
    "This test is used to compare the means of two independent groups to determine if they are significantly different from each other. It assumes that the samples are drawn from normally distributed populations with unknown but equal variances."
   ]
  },
  {
   "cell_type": "markdown",
   "id": "c5c2d782",
   "metadata": {},
   "source": [
    "### Job Placement"
   ]
  },
  {
   "cell_type": "markdown",
   "id": "a4003bcc",
   "metadata": {},
   "source": [
    "There is a common belief that working alongside studying has a negative impact on students' grades. We are given a job placement dataset that contains information about students studying in USA various universities alongside their job status. We want to perform a hypothesis test to test whether this belief is true or not. In this test, it is assumed that the variance is unknown but equal for both groups."
   ]
  },
  {
   "cell_type": "markdown",
   "id": "c9b7cf2b",
   "metadata": {},
   "source": [
    "we derive the hypotheses to be tested from the question:\n",
    "\n",
    "- #### $H_{0}$ (Null Hypothesis):\n",
    "There is no difference in grades between students who work alongside studying and those who do not.\n",
    "\n",
    "- #### $H_{a}$ (Alternative Hypothesis):\n",
    "Working students have a significantly lower grades than non-working students."
   ]
  },
  {
   "cell_type": "markdown",
   "id": "8b13d48d",
   "metadata": {},
   "source": [
    "First, we load the dataset and take a look at it:"
   ]
  },
  {
   "cell_type": "code",
   "execution_count": 2,
   "id": "a176f78d",
   "metadata": {
    "scrolled": false
   },
   "outputs": [
    {
     "data": {
      "text/html": [
       "<div>\n",
       "<style scoped>\n",
       "    .dataframe tbody tr th:only-of-type {\n",
       "        vertical-align: middle;\n",
       "    }\n",
       "\n",
       "    .dataframe tbody tr th {\n",
       "        vertical-align: top;\n",
       "    }\n",
       "\n",
       "    .dataframe thead th {\n",
       "        text-align: right;\n",
       "    }\n",
       "</style>\n",
       "<table border=\"1\" class=\"dataframe\">\n",
       "  <thead>\n",
       "    <tr style=\"text-align: right;\">\n",
       "      <th></th>\n",
       "      <th>id</th>\n",
       "      <th>name</th>\n",
       "      <th>gender</th>\n",
       "      <th>age</th>\n",
       "      <th>degree</th>\n",
       "      <th>stream</th>\n",
       "      <th>college_name</th>\n",
       "      <th>placement_status</th>\n",
       "      <th>salary</th>\n",
       "      <th>gpa</th>\n",
       "      <th>years_of_experience</th>\n",
       "    </tr>\n",
       "  </thead>\n",
       "  <tbody>\n",
       "    <tr>\n",
       "      <th>0</th>\n",
       "      <td>1</td>\n",
       "      <td>John Doe</td>\n",
       "      <td>Male</td>\n",
       "      <td>25</td>\n",
       "      <td>Bachelor's</td>\n",
       "      <td>Computer Science</td>\n",
       "      <td>Harvard University</td>\n",
       "      <td>Placed</td>\n",
       "      <td>60000</td>\n",
       "      <td>3.7</td>\n",
       "      <td>2.0</td>\n",
       "    </tr>\n",
       "    <tr>\n",
       "      <th>1</th>\n",
       "      <td>2</td>\n",
       "      <td>Jane Smith</td>\n",
       "      <td>Female</td>\n",
       "      <td>24</td>\n",
       "      <td>Bachelor's</td>\n",
       "      <td>Electrical Engineering</td>\n",
       "      <td>Massachusetts Institute of Technology</td>\n",
       "      <td>Placed</td>\n",
       "      <td>65000</td>\n",
       "      <td>3.6</td>\n",
       "      <td>1.0</td>\n",
       "    </tr>\n",
       "    <tr>\n",
       "      <th>2</th>\n",
       "      <td>3</td>\n",
       "      <td>Michael Johnson</td>\n",
       "      <td>Male</td>\n",
       "      <td>26</td>\n",
       "      <td>Bachelor's</td>\n",
       "      <td>Mechanical Engineering</td>\n",
       "      <td>Stanford University</td>\n",
       "      <td>Placed</td>\n",
       "      <td>58000</td>\n",
       "      <td>3.8</td>\n",
       "      <td>3.0</td>\n",
       "    </tr>\n",
       "    <tr>\n",
       "      <th>3</th>\n",
       "      <td>4</td>\n",
       "      <td>Emily Davis</td>\n",
       "      <td>Female</td>\n",
       "      <td>23</td>\n",
       "      <td>Bachelor's</td>\n",
       "      <td>Information Technology</td>\n",
       "      <td>Yale University</td>\n",
       "      <td>Not Placed</td>\n",
       "      <td>0</td>\n",
       "      <td>3.5</td>\n",
       "      <td>2.0</td>\n",
       "    </tr>\n",
       "    <tr>\n",
       "      <th>4</th>\n",
       "      <td>5</td>\n",
       "      <td>David Brown</td>\n",
       "      <td>Male</td>\n",
       "      <td>24</td>\n",
       "      <td>Bachelor's</td>\n",
       "      <td>Computer Science</td>\n",
       "      <td>Princeton University</td>\n",
       "      <td>Placed</td>\n",
       "      <td>62000</td>\n",
       "      <td>3.9</td>\n",
       "      <td>2.0</td>\n",
       "    </tr>\n",
       "    <tr>\n",
       "      <th>...</th>\n",
       "      <td>...</td>\n",
       "      <td>...</td>\n",
       "      <td>...</td>\n",
       "      <td>...</td>\n",
       "      <td>...</td>\n",
       "      <td>...</td>\n",
       "      <td>...</td>\n",
       "      <td>...</td>\n",
       "      <td>...</td>\n",
       "      <td>...</td>\n",
       "      <td>...</td>\n",
       "    </tr>\n",
       "    <tr>\n",
       "      <th>695</th>\n",
       "      <td>696</td>\n",
       "      <td>Lucas Taylor</td>\n",
       "      <td>Male</td>\n",
       "      <td>23</td>\n",
       "      <td>Bachelor's</td>\n",
       "      <td>Computer Science</td>\n",
       "      <td>University of Washington</td>\n",
       "      <td>Placed</td>\n",
       "      <td>67000</td>\n",
       "      <td>3.8</td>\n",
       "      <td>3.0</td>\n",
       "    </tr>\n",
       "    <tr>\n",
       "      <th>696</th>\n",
       "      <td>697</td>\n",
       "      <td>Emma Martinez</td>\n",
       "      <td>Female</td>\n",
       "      <td>26</td>\n",
       "      <td>Bachelor's</td>\n",
       "      <td>Electronics and Communication</td>\n",
       "      <td>University of California--Berkeley</td>\n",
       "      <td>Placed</td>\n",
       "      <td>66000</td>\n",
       "      <td>3.9</td>\n",
       "      <td>3.0</td>\n",
       "    </tr>\n",
       "    <tr>\n",
       "      <th>697</th>\n",
       "      <td>698</td>\n",
       "      <td>Aiden Davis</td>\n",
       "      <td>Male</td>\n",
       "      <td>24</td>\n",
       "      <td>Bachelor's</td>\n",
       "      <td>Computer Science</td>\n",
       "      <td>University of Illinois--Urbana-Champaign</td>\n",
       "      <td>Placed</td>\n",
       "      <td>65000</td>\n",
       "      <td>3.8</td>\n",
       "      <td>3.0</td>\n",
       "    </tr>\n",
       "    <tr>\n",
       "      <th>698</th>\n",
       "      <td>699</td>\n",
       "      <td>Mia Wilson</td>\n",
       "      <td>Female</td>\n",
       "      <td>23</td>\n",
       "      <td>Bachelor's</td>\n",
       "      <td>Electrical Engineering</td>\n",
       "      <td>University of Colorado--Boulder</td>\n",
       "      <td>Placed</td>\n",
       "      <td>66000</td>\n",
       "      <td>3.7</td>\n",
       "      <td>2.0</td>\n",
       "    </tr>\n",
       "    <tr>\n",
       "      <th>699</th>\n",
       "      <td>700</td>\n",
       "      <td>Jack Garcia</td>\n",
       "      <td>Male</td>\n",
       "      <td>26</td>\n",
       "      <td>Bachelor's</td>\n",
       "      <td>Information Technology</td>\n",
       "      <td>University of North Carolina--Chapel Hill</td>\n",
       "      <td>Not Placed</td>\n",
       "      <td>0</td>\n",
       "      <td>3.6</td>\n",
       "      <td>1.0</td>\n",
       "    </tr>\n",
       "  </tbody>\n",
       "</table>\n",
       "<p>700 rows × 11 columns</p>\n",
       "</div>"
      ],
      "text/plain": [
       "      id             name  gender  age      degree  \\\n",
       "0      1         John Doe    Male   25  Bachelor's   \n",
       "1      2       Jane Smith  Female   24  Bachelor's   \n",
       "2      3  Michael Johnson    Male   26  Bachelor's   \n",
       "3      4      Emily Davis  Female   23  Bachelor's   \n",
       "4      5      David Brown    Male   24  Bachelor's   \n",
       "..   ...              ...     ...  ...         ...   \n",
       "695  696     Lucas Taylor    Male   23  Bachelor's   \n",
       "696  697    Emma Martinez  Female   26  Bachelor's   \n",
       "697  698      Aiden Davis    Male   24  Bachelor's   \n",
       "698  699       Mia Wilson  Female   23  Bachelor's   \n",
       "699  700      Jack Garcia    Male   26  Bachelor's   \n",
       "\n",
       "                            stream                               college_name  \\\n",
       "0                 Computer Science                         Harvard University   \n",
       "1           Electrical Engineering      Massachusetts Institute of Technology   \n",
       "2           Mechanical Engineering                        Stanford University   \n",
       "3           Information Technology                            Yale University   \n",
       "4                 Computer Science                       Princeton University   \n",
       "..                             ...                                        ...   \n",
       "695               Computer Science                   University of Washington   \n",
       "696  Electronics and Communication         University of California--Berkeley   \n",
       "697               Computer Science   University of Illinois--Urbana-Champaign   \n",
       "698         Electrical Engineering            University of Colorado--Boulder   \n",
       "699         Information Technology  University of North Carolina--Chapel Hill   \n",
       "\n",
       "    placement_status  salary  gpa  years_of_experience  \n",
       "0             Placed   60000  3.7                  2.0  \n",
       "1             Placed   65000  3.6                  1.0  \n",
       "2             Placed   58000  3.8                  3.0  \n",
       "3         Not Placed       0  3.5                  2.0  \n",
       "4             Placed   62000  3.9                  2.0  \n",
       "..               ...     ...  ...                  ...  \n",
       "695           Placed   67000  3.8                  3.0  \n",
       "696           Placed   66000  3.9                  3.0  \n",
       "697           Placed   65000  3.8                  3.0  \n",
       "698           Placed   66000  3.7                  2.0  \n",
       "699       Not Placed       0  3.6                  1.0  \n",
       "\n",
       "[700 rows x 11 columns]"
      ]
     },
     "execution_count": 2,
     "metadata": {},
     "output_type": "execute_result"
    }
   ],
   "source": [
    "students_df = pd.read_csv('job_placement.csv')\n",
    "\n",
    "students_df"
   ]
  },
  {
   "cell_type": "markdown",
   "id": "95201e1c",
   "metadata": {},
   "source": [
    "For this problem, we only need the information in the `placement_status` and `GPA` columns. So, we will select these specific columns for our analysis."
   ]
  },
  {
   "cell_type": "code",
   "execution_count": 3,
   "id": "2e277aed",
   "metadata": {
    "scrolled": false
   },
   "outputs": [
    {
     "data": {
      "text/html": [
       "<div>\n",
       "<style scoped>\n",
       "    .dataframe tbody tr th:only-of-type {\n",
       "        vertical-align: middle;\n",
       "    }\n",
       "\n",
       "    .dataframe tbody tr th {\n",
       "        vertical-align: top;\n",
       "    }\n",
       "\n",
       "    .dataframe thead th {\n",
       "        text-align: right;\n",
       "    }\n",
       "</style>\n",
       "<table border=\"1\" class=\"dataframe\">\n",
       "  <thead>\n",
       "    <tr style=\"text-align: right;\">\n",
       "      <th></th>\n",
       "      <th>id</th>\n",
       "      <th>placement_status</th>\n",
       "      <th>gpa</th>\n",
       "    </tr>\n",
       "  </thead>\n",
       "  <tbody>\n",
       "    <tr>\n",
       "      <th>0</th>\n",
       "      <td>1</td>\n",
       "      <td>Placed</td>\n",
       "      <td>3.7</td>\n",
       "    </tr>\n",
       "    <tr>\n",
       "      <th>1</th>\n",
       "      <td>2</td>\n",
       "      <td>Placed</td>\n",
       "      <td>3.6</td>\n",
       "    </tr>\n",
       "    <tr>\n",
       "      <th>2</th>\n",
       "      <td>3</td>\n",
       "      <td>Placed</td>\n",
       "      <td>3.8</td>\n",
       "    </tr>\n",
       "    <tr>\n",
       "      <th>3</th>\n",
       "      <td>4</td>\n",
       "      <td>Not Placed</td>\n",
       "      <td>3.5</td>\n",
       "    </tr>\n",
       "    <tr>\n",
       "      <th>4</th>\n",
       "      <td>5</td>\n",
       "      <td>Placed</td>\n",
       "      <td>3.9</td>\n",
       "    </tr>\n",
       "    <tr>\n",
       "      <th>...</th>\n",
       "      <td>...</td>\n",
       "      <td>...</td>\n",
       "      <td>...</td>\n",
       "    </tr>\n",
       "    <tr>\n",
       "      <th>695</th>\n",
       "      <td>696</td>\n",
       "      <td>Placed</td>\n",
       "      <td>3.8</td>\n",
       "    </tr>\n",
       "    <tr>\n",
       "      <th>696</th>\n",
       "      <td>697</td>\n",
       "      <td>Placed</td>\n",
       "      <td>3.9</td>\n",
       "    </tr>\n",
       "    <tr>\n",
       "      <th>697</th>\n",
       "      <td>698</td>\n",
       "      <td>Placed</td>\n",
       "      <td>3.8</td>\n",
       "    </tr>\n",
       "    <tr>\n",
       "      <th>698</th>\n",
       "      <td>699</td>\n",
       "      <td>Placed</td>\n",
       "      <td>3.7</td>\n",
       "    </tr>\n",
       "    <tr>\n",
       "      <th>699</th>\n",
       "      <td>700</td>\n",
       "      <td>Not Placed</td>\n",
       "      <td>3.6</td>\n",
       "    </tr>\n",
       "  </tbody>\n",
       "</table>\n",
       "<p>700 rows × 3 columns</p>\n",
       "</div>"
      ],
      "text/plain": [
       "      id placement_status  gpa\n",
       "0      1           Placed  3.7\n",
       "1      2           Placed  3.6\n",
       "2      3           Placed  3.8\n",
       "3      4       Not Placed  3.5\n",
       "4      5           Placed  3.9\n",
       "..   ...              ...  ...\n",
       "695  696           Placed  3.8\n",
       "696  697           Placed  3.9\n",
       "697  698           Placed  3.8\n",
       "698  699           Placed  3.7\n",
       "699  700       Not Placed  3.6\n",
       "\n",
       "[700 rows x 3 columns]"
      ]
     },
     "execution_count": 3,
     "metadata": {},
     "output_type": "execute_result"
    }
   ],
   "source": [
    "students_df = students_df[['id', 'placement_status', 'gpa']]\n",
    "\n",
    "students_df"
   ]
  },
  {
   "cell_type": "markdown",
   "id": "b08d03b0",
   "metadata": {},
   "source": [
    "Then we split students into two groups based on their job placement status:"
   ]
  },
  {
   "cell_type": "code",
   "execution_count": 4,
   "id": "56b4359f",
   "metadata": {
    "scrolled": false
   },
   "outputs": [],
   "source": [
    "placed_students_df = students_df[students_df['placement_status'] == 'Placed']\n",
    "unplaced_students_df = students_df[students_df['placement_status'] == 'Not Placed']"
   ]
  },
  {
   "cell_type": "markdown",
   "id": "14794b88",
   "metadata": {},
   "source": [
    "The `describe()` method is applied to get a statistical summary of the data:"
   ]
  },
  {
   "cell_type": "code",
   "execution_count": 5,
   "id": "21d4d5c4",
   "metadata": {},
   "outputs": [
    {
     "data": {
      "text/html": [
       "<div>\n",
       "<style scoped>\n",
       "    .dataframe tbody tr th:only-of-type {\n",
       "        vertical-align: middle;\n",
       "    }\n",
       "\n",
       "    .dataframe tbody tr th {\n",
       "        vertical-align: top;\n",
       "    }\n",
       "\n",
       "    .dataframe thead th {\n",
       "        text-align: right;\n",
       "    }\n",
       "</style>\n",
       "<table border=\"1\" class=\"dataframe\">\n",
       "  <thead>\n",
       "    <tr style=\"text-align: right;\">\n",
       "      <th></th>\n",
       "      <th>id</th>\n",
       "      <th>gpa</th>\n",
       "    </tr>\n",
       "  </thead>\n",
       "  <tbody>\n",
       "    <tr>\n",
       "      <th>count</th>\n",
       "      <td>570.000000</td>\n",
       "      <td>570.000000</td>\n",
       "    </tr>\n",
       "    <tr>\n",
       "      <th>mean</th>\n",
       "      <td>351.757895</td>\n",
       "      <td>3.761404</td>\n",
       "    </tr>\n",
       "    <tr>\n",
       "      <th>std</th>\n",
       "      <td>201.313222</td>\n",
       "      <td>0.113352</td>\n",
       "    </tr>\n",
       "    <tr>\n",
       "      <th>min</th>\n",
       "      <td>1.000000</td>\n",
       "      <td>3.500000</td>\n",
       "    </tr>\n",
       "    <tr>\n",
       "      <th>25%</th>\n",
       "      <td>179.250000</td>\n",
       "      <td>3.700000</td>\n",
       "    </tr>\n",
       "    <tr>\n",
       "      <th>50%</th>\n",
       "      <td>352.000000</td>\n",
       "      <td>3.800000</td>\n",
       "    </tr>\n",
       "    <tr>\n",
       "      <th>75%</th>\n",
       "      <td>524.750000</td>\n",
       "      <td>3.900000</td>\n",
       "    </tr>\n",
       "    <tr>\n",
       "      <th>max</th>\n",
       "      <td>699.000000</td>\n",
       "      <td>3.900000</td>\n",
       "    </tr>\n",
       "  </tbody>\n",
       "</table>\n",
       "</div>"
      ],
      "text/plain": [
       "               id         gpa\n",
       "count  570.000000  570.000000\n",
       "mean   351.757895    3.761404\n",
       "std    201.313222    0.113352\n",
       "min      1.000000    3.500000\n",
       "25%    179.250000    3.700000\n",
       "50%    352.000000    3.800000\n",
       "75%    524.750000    3.900000\n",
       "max    699.000000    3.900000"
      ]
     },
     "execution_count": 5,
     "metadata": {},
     "output_type": "execute_result"
    }
   ],
   "source": [
    "placed_students_df.describe()"
   ]
  },
  {
   "cell_type": "code",
   "execution_count": 6,
   "id": "aa51fc63",
   "metadata": {
    "scrolled": true
   },
   "outputs": [
    {
     "data": {
      "text/html": [
       "<div>\n",
       "<style scoped>\n",
       "    .dataframe tbody tr th:only-of-type {\n",
       "        vertical-align: middle;\n",
       "    }\n",
       "\n",
       "    .dataframe tbody tr th {\n",
       "        vertical-align: top;\n",
       "    }\n",
       "\n",
       "    .dataframe thead th {\n",
       "        text-align: right;\n",
       "    }\n",
       "</style>\n",
       "<table border=\"1\" class=\"dataframe\">\n",
       "  <thead>\n",
       "    <tr style=\"text-align: right;\">\n",
       "      <th></th>\n",
       "      <th>id</th>\n",
       "      <th>gpa</th>\n",
       "    </tr>\n",
       "  </thead>\n",
       "  <tbody>\n",
       "    <tr>\n",
       "      <th>count</th>\n",
       "      <td>130.000000</td>\n",
       "      <td>130.000000</td>\n",
       "    </tr>\n",
       "    <tr>\n",
       "      <th>mean</th>\n",
       "      <td>344.984615</td>\n",
       "      <td>3.702308</td>\n",
       "    </tr>\n",
       "    <tr>\n",
       "      <th>std</th>\n",
       "      <td>206.831916</td>\n",
       "      <td>0.141676</td>\n",
       "    </tr>\n",
       "    <tr>\n",
       "      <th>min</th>\n",
       "      <td>4.000000</td>\n",
       "      <td>3.400000</td>\n",
       "    </tr>\n",
       "    <tr>\n",
       "      <th>25%</th>\n",
       "      <td>162.250000</td>\n",
       "      <td>3.600000</td>\n",
       "    </tr>\n",
       "    <tr>\n",
       "      <th>50%</th>\n",
       "      <td>344.000000</td>\n",
       "      <td>3.700000</td>\n",
       "    </tr>\n",
       "    <tr>\n",
       "      <th>75%</th>\n",
       "      <td>523.500000</td>\n",
       "      <td>3.900000</td>\n",
       "    </tr>\n",
       "    <tr>\n",
       "      <th>max</th>\n",
       "      <td>700.000000</td>\n",
       "      <td>3.900000</td>\n",
       "    </tr>\n",
       "  </tbody>\n",
       "</table>\n",
       "</div>"
      ],
      "text/plain": [
       "               id         gpa\n",
       "count  130.000000  130.000000\n",
       "mean   344.984615    3.702308\n",
       "std    206.831916    0.141676\n",
       "min      4.000000    3.400000\n",
       "25%    162.250000    3.600000\n",
       "50%    344.000000    3.700000\n",
       "75%    523.500000    3.900000\n",
       "max    700.000000    3.900000"
      ]
     },
     "execution_count": 6,
     "metadata": {},
     "output_type": "execute_result"
    }
   ],
   "source": [
    "unplaced_students_df.describe()"
   ]
  },
  {
   "cell_type": "markdown",
   "id": "f1556971",
   "metadata": {},
   "source": [
    "Here, we draw two box plots side by side, one for placed students with blue color elements and another for unplaced students with red color elements, making it easy to compare the distribution of GPAs between the two groups."
   ]
  },
  {
   "cell_type": "code",
   "execution_count": 7,
   "id": "3aa76156",
   "metadata": {},
   "outputs": [
    {
     "data": {
      "image/png": "[encoded data removed]",
      "text/plain": [
       "<Figure size 720x360 with 2 Axes>"
      ]
     },
     "metadata": {
      "needs_background": "light"
     },
     "output_type": "display_data"
    }
   ],
   "source": [
    "fig, axes = plt.subplots(1, 2, figsize=(10, 5))\n",
    "\n",
    "boxprops = dict(color=\"blue\", linewidth=2)\n",
    "whiskerprops = dict(color=\"blue\", linewidth=2)\n",
    "capprops = dict(color=\"blue\", linewidth=2)\n",
    "medianprops = dict(color=\"green\", linewidth=2)\n",
    "flierprops = dict(marker='o', markerfacecolor='blue', markersize=8, linestyle='none', alpha=0.5)\n",
    "\n",
    "placed_students_df.boxplot(column='gpa', ax=axes[0], boxprops=boxprops, whiskerprops=whiskerprops, capprops=capprops, medianprops=medianprops, flierprops=flierprops)\n",
    "\n",
    "boxprops = dict(color=\"red\", linewidth=2)\n",
    "whiskerprops = dict(color=\"red\", linewidth=2)\n",
    "capprops = dict(color=\"red\", linewidth=2)\n",
    "flierprops = dict(marker='o', markerfacecolor='red', markersize=8, linestyle='none', alpha=0.5)\n",
    "\n",
    "unplaced_students_df.boxplot(column='gpa', ax=axes[1], boxprops=boxprops, whiskerprops=whiskerprops, capprops=capprops, medianprops=medianprops, flierprops=flierprops)\n",
    "\n",
    "axes[0].set_title('Placed Students', fontsize=14, color='blue')\n",
    "axes[1].set_title('Not Placed Students', fontsize=14, color='red')\n",
    "\n",
    "axes[0].set_ylabel('Values', fontsize=12)\n",
    "axes[1].set_ylabel('Values', fontsize=12)\n",
    "\n",
    "for ax in axes:\n",
    "    ax.tick_params(axis='both', labelsize=12)\n",
    "\n",
    "for ax in axes:\n",
    "    ax.grid(True, linestyle='--', alpha=0.7)\n",
    "\n",
    "plt.tight_layout()\n",
    "plt.show()"
   ]
  },
  {
   "cell_type": "markdown",
   "id": "af4184d3",
   "metadata": {},
   "source": [
    "#### t-statistic and degrees of freedom"
   ]
  },
  {
   "cell_type": "markdown",
   "id": "b0ba8b39",
   "metadata": {},
   "source": [
    "Now we want to calculate the `t-statistic` and `degrees of freedom` for these two groups.\n",
    "\n",
    "- `degrees of freedom`\n",
    "\n",
    "Degrees of freedom, often denoted as `df`, refer to the number of independent values or quantities that can be assigned to a statistical distribution. In the context of statistical tests, degrees of freedom are the number of independent pieces of information used to calculate a statistic, typically calculated as the sample size minus the number of parameters estimated.\n",
    "\n",
    "- `t-statistic`\n",
    "\n",
    "The t-statistic is a value used in hypothesis testing, specifically in a t-test, to determine whether to support or reject the null hypothesis. It's calculated as the ratio of the departure of the estimated value of a parameter from its hypothesized value to its standard error. The t-statistic is particularly useful when the sample size is small or the population standard deviation is unknown."
   ]
  },
  {
   "cell_type": "markdown",
   "id": "46cd42dd",
   "metadata": {},
   "source": [
    "#### degrees of freedom"
   ]
  },
  {
   "cell_type": "markdown",
   "id": "4abc1af2",
   "metadata": {},
   "source": [
    "Here, we calculate the degrees of freedom for a statistical test, where `n1` and `n2` represent the counts of placed and unplaced students, respectively. The degrees of freedom are determined by adding `n1` and `n2` and subtracting 2. Here is the formula:\n",
    "\n",
    "$$df = n_{1} + n_{2} - 2$$\n",
    "\n",
    "where\n",
    "\n",
    "$$n_1 = sample\\; size\\; of\\; first\\; sample$$\n",
    "$$n_2 = sample\\; size\\; of\\; second\\; sample$$"
   ]
  },
  {
   "cell_type": "code",
   "execution_count": 8,
   "id": "d423aae0",
   "metadata": {},
   "outputs": [
    {
     "name": "stdout",
     "output_type": "stream",
     "text": [
      "n1 =  570\n",
      "n2 =  130\n",
      "Degrees of Freedom =  698\n"
     ]
    }
   ],
   "source": [
    "placed_student_count = len(placed_students_df)\n",
    "unplaced_student_count = len(unplaced_students_df)\n",
    "\n",
    "n1 = placed_student_count\n",
    "n2 = unplaced_student_count\n",
    "\n",
    "degrees_of_freedom = n1 + n2 - 2\n",
    "\n",
    "print('n1 = ', placed_student_count)\n",
    "print('n2 = ', unplaced_student_count)\n",
    "print('Degrees of Freedom = ', degrees_of_freedom)"
   ]
  },
  {
   "cell_type": "markdown",
   "id": "37ff1380",
   "metadata": {},
   "source": [
    "#### t-statistic"
   ]
  },
  {
   "cell_type": "markdown",
   "id": "4b2ec07e",
   "metadata": {},
   "source": [
    "Now, we calculate the t-statistic using this formula:\n",
    "\n",
    "$$ t = \\frac{\\bar{x}_1 - \\bar{x}_2}{s_{p} \\sqrt{\\frac{1}{n_1} + \\frac{1}{n_2}}} $$\n",
    "\n",
    "with\n",
    "\n",
    "$$ s_p = \\sqrt{\\frac{(n_1 - 1)s_1^{2} + (n_2 - 1)s_2^{2}}{n_{1} + n_{2} - 2}} $$\n",
    "\n",
    "where\n",
    "\n",
    "$$\\bar{x}_1 = mean\\; of\\; first\\; sample$$\n",
    "$$\\bar{x}_2 = mean\\; of\\; second\\; sample$$\n",
    "\n",
    "$$n_1 = sample\\; size\\; of\\; first\\; sample$$\n",
    "$$n_2 = sample\\; size\\; of\\; second\\; sample$$\n",
    "\n",
    "$$s_1 = standard\\; deviation\\; of\\; first\\; sample$$\n",
    "$$s_2 = standard\\; deviation\\; of\\; first\\; sample$$\n",
    "\n",
    "$$s_p = pooled\\; standard\\; deviation$$\n",
    "\n",
    "We start by calculating the mean of two groups' samples:"
   ]
  },
  {
   "cell_type": "markdown",
   "id": "f1928151",
   "metadata": {},
   "source": [
    "##### mean"
   ]
  },
  {
   "cell_type": "markdown",
   "id": "e2ae0efe",
   "metadata": {},
   "source": [
    "We defined a function `calculate_mean()` to find the average GPA from the dataset, ensuring division by zero is handled. Variables `x1` and `x2` store the mean GPAs for placed (working) and unplaced (non-working) students, respectively."
   ]
  },
  {
   "cell_type": "code",
   "execution_count": 9,
   "id": "53192d82",
   "metadata": {},
   "outputs": [
    {
     "name": "stdout",
     "output_type": "stream",
     "text": [
      "Mean gpa for working students =  3.761403508771934\n",
      "Mean gpa for non-working students =  3.7023076923076896\n"
     ]
    }
   ],
   "source": [
    "def calculate_mean(data):\n",
    "    total = 0\n",
    "    count = len(data)\n",
    "    for value in data:\n",
    "        total += value\n",
    "    return (total / count) if count != 0 else 0\n",
    "\n",
    "x1 = calculate_mean(placed_students_df['gpa'])\n",
    "x2 = calculate_mean(unplaced_students_df['gpa'])\n",
    "\n",
    "print(\"Mean gpa for working students = \", x1)\n",
    "print(\"Mean gpa for non-working students = \", x2)"
   ]
  },
  {
   "cell_type": "markdown",
   "id": "c01db2d1",
   "metadata": {},
   "source": [
    "##### standard deviation"
   ]
  },
  {
   "cell_type": "markdown",
   "id": "79a2c6a3",
   "metadata": {},
   "source": [
    "Here, we defined a function `calculate_std_dev()` to compute the standard deviation of GPA values for two groups of students. It first calculates the mean, then the variance, and finally the standard deviation. `s1` is the standard deviation of GPAs for placed (working) students, and `s2` is for unplaced (non-working) students, both of which are printed out."
   ]
  },
  {
   "cell_type": "code",
   "execution_count": 10,
   "id": "d9e158c1",
   "metadata": {},
   "outputs": [
    {
     "name": "stdout",
     "output_type": "stream",
     "text": [
      "std of gpa for working students =  0.11325237453831037\n",
      "std of gpa for non-working students =  0.14113026422171096\n"
     ]
    }
   ],
   "source": [
    "def calculate_std_dev(data):\n",
    "    mean = calculate_mean(data)\n",
    "    variance = 0\n",
    "    count = len(data)\n",
    "    for value in data:\n",
    "        variance += (value - mean) ** 2\n",
    "    variance = (variance / count) if count != 0 else 0\n",
    "    std_dev = variance ** 0.5\n",
    "    return std_dev\n",
    "\n",
    "s1 = calculate_std_dev(placed_students_df['gpa'])\n",
    "s2 = calculate_std_dev(unplaced_students_df['gpa'])\n",
    "\n",
    "print(\"std of gpa for working students = \", s1)\n",
    "print(\"std of gpa for non-working students = \", s2)"
   ]
  },
  {
   "cell_type": "markdown",
   "id": "bc894675",
   "metadata": {},
   "source": [
    "##### pooled standard deviation $(s_p)$"
   ]
  },
  {
   "cell_type": "markdown",
   "id": "394a50d5",
   "metadata": {},
   "source": [
    "This code calculates the pooled standard deviation $s_p$, which is an estimate of the common standard deviation for two groups, assuming they have the same variance. It's computed by taking a weighted average of the variances of the two groups, with `n1` and `n2` being the sample sizes and `s1` and `s2` being the standard deviations of the respective groups. The result, `sp`, represents the pooled (estimated) standard deviation, which is then printed."
   ]
  },
  {
   "cell_type": "code",
   "execution_count": 11,
   "id": "6aa36080",
   "metadata": {},
   "outputs": [
    {
     "name": "stdout",
     "output_type": "stream",
     "text": [
      "Pooled (Estimated) standard deviation =  0.11889800252726976\n"
     ]
    }
   ],
   "source": [
    "numerator = (n1 - 1)*(s1 ** 2) + (n2 - 1)*(s2 ** 2)\n",
    "denominator = n1 + n2 - 2\n",
    "\n",
    "sp = (numerator / denominator) ** 0.5\n",
    "\n",
    "print(\"Pooled (Estimated) standard deviation = \", sp)"
   ]
  },
  {
   "cell_type": "markdown",
   "id": "c5f769f4",
   "metadata": {},
   "source": [
    "##### t-value $(t)$"
   ]
  },
  {
   "cell_type": "markdown",
   "id": "dc362a1a",
   "metadata": {},
   "source": [
    "Now it's time to calculate t-value (t-statistic):"
   ]
  },
  {
   "cell_type": "code",
   "execution_count": 12,
   "id": "8e6a96a0",
   "metadata": {},
   "outputs": [
    {
     "name": "stdout",
     "output_type": "stream",
     "text": [
      "t-value =  5.113782617673655\n"
     ]
    }
   ],
   "source": [
    "numerator = x1 - x2\n",
    "denominator = sp * (((1/n1) + (1/n2)) ** 0.5)\n",
    "\n",
    "t_value = numerator / denominator\n",
    "\n",
    "print(\"t-value = \", t_value)"
   ]
  },
  {
   "cell_type": "markdown",
   "id": "c5846976",
   "metadata": {},
   "source": [
    "##### p-value $(p)$"
   ]
  },
  {
   "cell_type": "markdown",
   "id": "d89586c2",
   "metadata": {},
   "source": [
    "We determine the `p-value` for the calculated `t-statistic` and `degrees of freedom` with the help of t-distribution. We used the `SciPy` library for this purpose by importing `t-distribution` from `scipy.stats`:\n",
    "\n",
    "`from scipy.stats import t`\n",
    "\n",
    "The p-value is calculated using the cumulative distribution function (CDF) of the t-distribution, `t.cdf()`, which gives the probability that a random variable drawn from the t-distribution will be less than or equal to the absolute t-value."
   ]
  },
  {
   "cell_type": "code",
   "execution_count": 13,
   "id": "ef1cb189",
   "metadata": {},
   "outputs": [
    {
     "name": "stdout",
     "output_type": "stream",
     "text": [
      "df =  698\n",
      "t-value =  5.113782617673655\n",
      "p-value =  2.0417383961301994e-07\n"
     ]
    }
   ],
   "source": [
    "print('df = ', degrees_of_freedom)\n",
    "print(\"t-value = \", t_value)\n",
    "\n",
    "p_value = 1 - t.cdf(abs(t_value), df=degrees_of_freedom)\n",
    "\n",
    "print(\"p-value = \", p_value)"
   ]
  },
  {
   "cell_type": "markdown",
   "id": "4a5318a0",
   "metadata": {},
   "source": [
    "##### Decision Making"
   ]
  },
  {
   "cell_type": "markdown",
   "id": "fb606c31",
   "metadata": {},
   "source": [
    "Finally, we will report the result of the test and make our decision.\n",
    "\n",
    "- If the `p-value` is less than `alpha` (significance level) and the `t-value` is positive, it suggests that we have enough evidence saying that working students have a significantly lower GPA than non-working students, leading to the rejection of the null hypothesis.\n",
    "\n",
    "\n",
    "\n",
    "- If the conditions are not met, the null hypothesis is not rejected, indicating insufficient evidence to conclude a significant difference in GPA based on working status."
   ]
  },
  {
   "cell_type": "code",
   "execution_count": 14,
   "id": "a1c01515",
   "metadata": {
    "scrolled": true
   },
   "outputs": [
    {
     "name": "stdout",
     "output_type": "stream",
     "text": [
      "Reject the null hypothesis.\n",
      "Working students have a significantly lower GPA than non-working students.\n"
     ]
    }
   ],
   "source": [
    "# significance level\n",
    "alpha = 0.05\n",
    "\n",
    "if p_value < alpha and t_value > 0:\n",
    "    print(\"Reject the null hypothesis.\\nWorking students have a significantly lower GPA than non-working students.\")\n",
    "else:\n",
    "    print(\"Fail to reject the null hypothesis.\\nThere is insufficient evidence to conclude that working students have a lower GPA than non-working students.\")"
   ]
  },
  {
   "cell_type": "markdown",
   "id": "d5ffdac7",
   "metadata": {},
   "source": [
    "It can be seen that the null hypothesis is rejected.\n",
    "\n",
    "So, we can say that with $95\\%$ level of confidence, we cannot accept the null hypothesis."
   ]
  },
  {
   "cell_type": "markdown",
   "id": "77335824",
   "metadata": {},
   "source": [
    "### Hypothesis Test using SciPy Library"
   ]
  },
  {
   "cell_type": "markdown",
   "id": "7f384acc",
   "metadata": {},
   "source": [
    "In this part, we performs a one-tailed independent samples t-test using the SciPy library to determine if there is a statistically significant difference in the GPAs of placed (working) and unplaced (non-working) students.\n",
    "\n",
    "- `ttest_ind()` is a function from the SciPy library that calculates the `t-statistic` and `p-value` for the hypothesis test of whether two independent samples have identical average (expected) values.\n",
    "\n",
    "\n",
    "- By setting `equal_var=True` we assume that the two groups have the same variance.\n",
    "\n",
    "\n",
    "- The p-value is halved `(p_value/2)` because it's a one-tailed test; we're only interested in whether one mean is greater than the other, not just any difference.\n",
    "\n",
    "\n",
    "- The significance level `alpha` is set at `0.05`, meaning there's a `5%` risk of concluding that a difference exists when there is no actual difference.\n",
    "\n",
    "Now, let's perform the test:"
   ]
  },
  {
   "cell_type": "code",
   "execution_count": 15,
   "id": "6ebe2015",
   "metadata": {
    "scrolled": true
   },
   "outputs": [
    {
     "name": "stdout",
     "output_type": "stream",
     "text": [
      "df =  698\n",
      "t_value =  5.105318956468754\n",
      "p-value =  2.1318222470483946e-07\n"
     ]
    }
   ],
   "source": [
    "t_value, p_value = ttest_ind(placed_students_df['gpa'], unplaced_students_df['gpa'], equal_var=True)\n",
    "p_value = p_value/2\n",
    "\n",
    "print('df = ', degrees_of_freedom)\n",
    "print(\"t_value = \", t_value)\n",
    "print(\"p-value = \", p_value)"
   ]
  },
  {
   "cell_type": "markdown",
   "id": "998d861a",
   "metadata": {},
   "source": [
    "The values obtained for `p-value` and `t-value` are very accurately equal to the values that we had calculated ourselves using the formulas."
   ]
  },
  {
   "cell_type": "code",
   "execution_count": 16,
   "id": "7aa730b4",
   "metadata": {},
   "outputs": [
    {
     "name": "stdout",
     "output_type": "stream",
     "text": [
      "Reject the null hypothesis.\n",
      "Working students have a significantly lower GPA than non-working students.\n"
     ]
    }
   ],
   "source": [
    "# significance level\n",
    "alpha = 0.05\n",
    "\n",
    "if p_value < alpha and t_value > 0:\n",
    "    print(\"Reject the null hypothesis.\\nWorking students have a significantly lower GPA than non-working students.\")\n",
    "else:\n",
    "    print(\"Fail to reject the null hypothesis.\\nThere is insufficient evidence to conclude that working students have a lower GPA than non-working students.\")"
   ]
  },
  {
   "cell_type": "markdown",
   "id": "3bce56a9",
   "metadata": {},
   "source": [
    "Again, it can be seen that the null hypothesis is rejected.\n",
    "\n",
    "So, we can say that with $95\\%$ level of confidence, we cannot accept the null hypothesis.\n",
    "\n",
    "This is exactly the same result we obtained from the test we performed by calculating the `t-statistic` and `p-value` using their formulas."
   ]
  },
  {
   "cell_type": "markdown",
   "id": "ba82b666",
   "metadata": {},
   "source": [
    "## Questions"
   ]
  },
  {
   "cell_type": "markdown",
   "id": "56188ebc",
   "metadata": {},
   "source": [
    "#### Q4: What are t-statistic, degrees of freedom, and t-distribution in t-test? How can they help us to compare two data sets?"
   ]
  },
  {
   "cell_type": "markdown",
   "id": "0d755e25",
   "metadata": {},
   "source": [
    "### **t-distribution**\n",
    "\n",
    "The t-distribution is a probability distribution that is symmetric and bell-shaped, similar to the normal distribution, but with heavier tails. It is used in hypothesis testing when the sample size is small and/or when the population standard deviation is unknown.\n",
    "\n",
    "The shape of the t-distribution depends on the degrees of freedom. As the degrees of freedom increase, the t-distribution approaches the shape of the standard normal distribution (the z-distribution).\n",
    "\n",
    "By comparing the calculated t-statistic to critical values from the t-distribution, you can determine whether the observed difference between the sample means is statistically significant.\n",
    "\n",
    "\n",
    "### **degrees of freedom**\n",
    "\n",
    "Degrees of freedom (df) represent the number of independent pieces of information available to estimate a parameter. In the context of a t-test, the degrees of freedom are used to determine the shape of the t-distribution and are calculated as $df = n_1 + n_2 - 2$, where $n_1$ and $n_2$ are the sample sizes of the two groups.\n",
    "\n",
    "The degrees of freedom affect the spread and shape of the t-distribution, which in turn influences the critical values used for hypothesis testing.\n",
    "\n",
    "\n",
    "### **t-statistic**\n",
    "\n",
    "The t-statistic measures the difference between the means of two groups relative to the variation within the groups. It quantifies how much the sample means differ and provides a standardized measure of the difference.\n",
    "\n",
    "Mathematically, the t-statistic is calculated as the difference between the sample means divided by the standard error of the difference. It is given by:\n",
    "\n",
    "$$ t = \\frac{\\bar{x}_1 - \\bar{x}_2}{s_{p} \\sqrt{\\frac{1}{n_1} + \\frac{1}{n_2}}} $$\n",
    "     \n",
    "     Where:\n",
    "     \n",
    "$\\bar{x}_1$ and $\\bar{x}_2$ are the sample means of the two groups.\n",
    "\n",
    "$s_{p}$ is the pooled standard deviation, which combines the standard deviations of the two groups.\n",
    "\n",
    "$n_1$ and $n_2$ are the sample sizes of the two groups.\n",
    "\n",
    "\n",
    "\n",
    "\n",
    "\n",
    "In summary, the `t-statistic` measures the difference between sample means, the `degrees of freedom` determine the shape of the t-distribution, and the `t-distribution` provides critical values for hypothesis testing. Together, these components help us assess whether the difference between two data sets is statistically significant in a t-test."
   ]
  },
  {
   "cell_type": "markdown",
   "id": "aa778693",
   "metadata": {},
   "source": [
    "#### Q5: What are the preliminary conditions for using t-test on our data?"
   ]
  },
  {
   "cell_type": "markdown",
   "id": "608ed3a1",
   "metadata": {},
   "source": [
    "To calculate an independent t-test we need one independent variable (placement_status) that has two characteristics or groups (Placed and Not Placed) and one metric dependent variable (gpa). These two groups should be compared in the analysis.\n",
    "\n",
    "The assumptions are the following:\n",
    "\n",
    "**1. There are two dependent groups or samples.**\n",
    "\n",
    "As the name of independent samples t-test suggests, the samples must be independent. This means that a value in one sample must not influence a value in the other sample.\n",
    "\n",
    "**2. The variables are interval scaled.**\n",
    "\n",
    "For the t-test for independent samples, the mean value of the sample must be calculated, this is only meaningful if the variable is metric scaled.\n",
    "\n",
    "**3. The variables are normally distributed.**\n",
    "\n",
    "The t-test for independent samples gives the most accurate results when the data from each group are normally distributed. However, there are exceptions in special cases.\n",
    "\n",
    "**4. The variance within the groups should be similar.**\n",
    "\n",
    "Since the variance is needed to calculate the t value, the variance within each group should be similar. In this task, it is assumed that both groups have equal variance."
   ]
  },
  {
   "cell_type": "markdown",
   "id": "11c5c5a7",
   "metadata": {},
   "source": [
    "#### Q6: Read about some other types of tests that are used in scientific research. Write a line about each of them."
   ]
  },
  {
   "cell_type": "markdown",
   "id": "01f59058",
   "metadata": {},
   "source": [
    "\n",
    "1. **ANOVA (Analysis of Variance)**:\n",
    "ANOVA is used `to compare means across multiple groups simultaneously`, rather than just two groups as in a t-test. It assesses whether there are statistically significant differences between the means of three or more independent groups. It can also help identify which group means differ from each other.\n",
    "\n",
    "\n",
    "2. **Chi-squared Test**: The chi-squared test is used `to assess the association between categorical variables`. It evaluates whether there is a significant difference between the observed frequencies and the expected frequencies in one or more categories. It's often used in contingency tables to test for independence or to compare observed and expected proportions.\n",
    "\n",
    "\n",
    "3. **Regression Analysis**: Regression analysis is used `to examine the relationship between one or more independent variables (predictors) and a dependent variable`. It estimates the strength and direction of the relationship and can be used for prediction, explanation, and hypothesis testing. Common types include linear regression, logistic regression, and multiple regression.\n",
    "\n",
    "\n",
    "4. **Correlation Analysis**: Correlation analysis `measures the strength and direction of the relationship between two continuous variables`. It assesses how closely the variables are related to each other. Common correlation coefficients include Pearson correlation coefficient (for linear relationships), Spearman rank correlation coefficient (for monotonic relationships), and Kendall's tau (for ordinal data).\n",
    "\n",
    "\n",
    "5. **Non-parametric Tests**: Non-parametric tests are `used when data do not meet the assumptions of parametric tests (e.g., normal distribution, homogeneity of variances)`. These tests do not require specific assumptions about the distribution of the data. Examples include the Mann-Whitney U test (non-parametric equivalent of the independent samples t-test), Wilcoxon signed-rank test (non-parametric equivalent of the paired samples t-test), and Kruskal-Wallis test (non-parametric equivalent of ANOVA).\n",
    "\n",
    "\n",
    "6. **Survival Analysis**: Survival analysis is `used to analyze time-to-event data, such as time until death, failure, or occurrence of an event`. It models the time-to-event outcome and examines the effects of predictor variables on survival probabilities over time. Common methods include Kaplan-Meier estimator and Cox proportional hazards model.\n",
    "\n",
    "\n",
    "These are just a few examples of the many statistical tests available for analyzing different types of data and addressing various research questions in scientific research. Each test has its own assumptions, applications, and interpretations, and choosing the appropriate test depends on the specific characteristics of the data and the research objectives."
   ]
  }
 ],
 "metadata": {
  "kernelspec": {
   "display_name": "Python 3 (ipykernel)",
   "language": "python",
   "name": "python3"
  },
  "language_info": {
   "codemirror_mode": {
    "name": "ipython",
    "version": 3
   },
   "file_extension": ".py",
   "mimetype": "text/x-python",
   "name": "python",
   "nbconvert_exporter": "python",
   "pygments_lexer": "ipython3",
   "version": "3.9.12"
  }
 },
 "nbformat": 4,
 "nbformat_minor": 5
}
