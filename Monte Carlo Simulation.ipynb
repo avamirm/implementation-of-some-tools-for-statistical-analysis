{
 "cells": [
  {
   "cell_type": "markdown",
   "metadata": {},
   "source": [
    "<div style=\"text-align: center; padding: 20px; background-color: #000000; border-radius: 10px; margin: 20px 0;\">\n",
    "    <h1 style=\"color: #008080 \t;\">Monte Carlo Simulation</h1>\n",
    "    <hr style=\"border: 2px solid #008080;\">\n",
    "</div>"
   ]
  },
  {
   "cell_type": "markdown",
   "metadata": {},
   "source": [
    "Monte Carlo Simulation is a computational technique used to approximate the behavior of complex systems or processes through repeated random sampling. This method involves running numerous simulations using random inputs to estimate the probability distributions of possible outcomes. It's particularly useful when analytical solutions are difficult or impossible to obtain.  \n",
    "The objective of this section is learning more about Monte Carlo Simulation and understand how it can\n",
    "help us to model and analyze complex systems. We will simulate the following topics using Monte Carlo Simulation:\n",
    "1. **Pi Calculation**\n",
    "2. **Calculation the probability of wining for each player in Mensch game**"
   ]
  },
  {
   "cell_type": "markdown",
   "metadata": {},
   "source": [
    "<style>\n",
    "h2 {\n",
    "        /* green code */\n",
    "        color: #3EB489;\n",
    "}\n",
    "</style>\n",
    "\n",
    "## Pi Calculation"
   ]
  },
  {
   "cell_type": "markdown",
   "metadata": {},
   "source": [
    "Pi is a mathematical constant that represents the ratio of a circle's circumference to its diameter. In this case, we can use the Monte Carlo method to estimate Pi by simulating random points on a square and counting the number of points that fall inside a circle with radius 1. The ratio of the number of points inside the circle to the total number of points is an estimate of $\\frac{\\pi r^{2}}{(2r)^{2}} = \\frac {\\pi}{4}$."
   ]
  },
  {
   "cell_type": "code",
   "execution_count": 1,
   "metadata": {},
   "outputs": [
    {
     "name": "stdout",
     "output_type": "stream",
     "text": [
      "The estimation of Pi using Monte Carlo Simulation is:  3.143072\n"
     ]
    }
   ],
   "source": [
    "import numpy as np\n",
    "\n",
    "NUM_OF_SIMULATIONS = 1000000\n",
    "\n",
    "number_of_points_inside_circle = 0\n",
    "number_of_points_inside_square = 0\n",
    "\n",
    "for i in range(NUM_OF_SIMULATIONS):\n",
    "    x = np.random.uniform()\n",
    "    y = np.random.uniform()\n",
    "    if x**2 + y**2 <= 1:\n",
    "        number_of_points_inside_circle += 1\n",
    "    number_of_points_inside_square += 1\n",
    "\n",
    "pi = 4 * number_of_points_inside_circle / number_of_points_inside_square\n",
    "\n",
    "print(\"The estimation of Pi using Monte Carlo Simulation is: \", pi)"
   ]
  },
  {
   "cell_type": "markdown",
   "metadata": {},
   "source": [
    "As we can see, the estimation of Pi is very close to the real value. The more points we use, the closer the estimation will be to the real value."
   ]
  },
  {
   "cell_type": "markdown",
   "metadata": {},
   "source": [
    "<style>\n",
    "h2 {\n",
    "        /* green code */\n",
    "        color: #3EB489;\n",
    "}\n",
    "</style>\n",
    "\n",
    "## Probability of wining in Mensch Game"
   ]
  },
  {
   "cell_type": "markdown",
   "metadata": {},
   "source": [
    "The analysis of the probability of winning in a simplified Mensch game is done in this part. The game consists of a board with 40 spaces, and the goal is to move the only piece each player has from the start to the end. The start and end spaces differ for each player. The game is played with a dice, and the player can move the piece the number of spaces that the dice shows. The game has some special rules, like the possibility of eating the opponent's piece if it lands on the same space. Also for bringing the piece to the start space, the player needs to roll a 6. The probability of winning is calculated by simulating the game many times and counting the number of wins for each player."
   ]
  },
  {
   "cell_type": "markdown",
   "metadata": {},
   "source": [
    "At first we define `starting_positions` and `wining_positions` for each player. The `positions` list is used to store the position of each piece. It is initialized with -1, which means that the player has not rolled a 6 yet.   \n",
    "In `throw_out_if_possible()` function, the piece is thrown out if it's possible. If the piece is thrown out, the position is updated to -1.\n",
    "`change_position()` function is used to change the position of the piece. It also checks if the piece reaches the wining position. If it does, the function returns the player who won, Otherwise, it returns -1. If the piece's new position goes further than the last field in the \"home\" row, the piece does not move.  \n",
    "`play_game()` function is used to simulate the game. It returns the player who won the game. The 'while' loop is used to simulate the game until one of the players wins.  \n",
    "In the end we simulate the game 100000 times and calculate the probability of winning for each player.\n"
   ]
  },
  {
   "cell_type": "code",
   "execution_count": 8,
   "metadata": {},
   "outputs": [
    {
     "name": "stdout",
     "output_type": "stream",
     "text": [
      "Player  1  winning probability is:  0.2641\n",
      "Player  2  winning probability is:  0.257\n",
      "Player  3  winning probability is:  0.2406\n",
      "Player  4  winning probability is:  0.2383\n"
     ]
    },
    {
     "data": {
      "image/png": "[encoded data removed]",
      "text/plain": [
       "<Figure size 432x288 with 1 Axes>"
      ]
     },
     "metadata": {
      "needs_background": "light"
     },
     "output_type": "display_data"
    }
   ],
   "source": [
    "import random\n",
    "import matplotlib.pyplot as plt\n",
    "import numpy as np\n",
    "\n",
    "NUM_OF_PLAYERS = 4\n",
    "NUM_OF_SIMULATIONS = 10000\n",
    "BOARD_SIZE = 4000\n",
    "\n",
    "def roll_dice():\n",
    "    return random.randint(1, 6)\n",
    "\n",
    "def throw_out_if_possible(positions, i):\n",
    "    for j in range(NUM_OF_PLAYERS):\n",
    "        if (i != j) and (positions[j] != -1):\n",
    "            a = positions[i] == positions[j]\n",
    "            b = ((positions[i] >= BOARD_SIZE) and (positions[i] - BOARD_SIZE == positions[j]))\n",
    "            c = ((positions[j] >= BOARD_SIZE) and (positions[j] - BOARD_SIZE == positions[i]))\n",
    "            if a or b or c:             \n",
    "                positions[j] = -1\n",
    "\n",
    "def change_position(positions, starting_positions, wining_positions, i, dice):\n",
    "    if positions[i] == -1 and dice == 6:\n",
    "        positions[i] = starting_positions[i]\n",
    "        throw_out_if_possible(positions, i)\n",
    "    elif positions[i] != -1:\n",
    "        new_position = positions[i] + dice\n",
    "        if new_position <= wining_positions[i]:\n",
    "            positions[i] = new_position\n",
    "            if (positions[i] == wining_positions[i]):\n",
    "                return i\n",
    "            throw_out_if_possible(positions, i)\n",
    "    return -1\n",
    "\n",
    "def play_dice_as_long_as_6(dice, positions, starting_positions, wining_positions, i):\n",
    "    dice_ = dice\n",
    "    while dice_ == 6:\n",
    "        winner = change_position(positions, starting_positions, wining_positions, i, dice_)\n",
    "        if winner != -1:\n",
    "            return winner\n",
    "        dice_ = roll_dice()\n",
    "    winner = change_position(positions, starting_positions, wining_positions, i, dice_)\n",
    "    return winner\n",
    "                \n",
    "def play_game(positions, starting_positions, wining_positions):\n",
    "    while(True):\n",
    "        winner = -1 \n",
    "        for i in range(NUM_OF_PLAYERS):\n",
    "            dice = roll_dice()\n",
    "            if (dice != 6) and (positions[i] == -1):\n",
    "                continue\n",
    "            if dice == 6:\n",
    "                winner = play_dice_as_long_as_6(dice, positions, starting_positions, wining_positions, i)\n",
    "            else:\n",
    "                winner = change_position(positions, starting_positions, wining_positions, i, dice)\n",
    "            if winner != -1:\n",
    "                return winner\n",
    "\n",
    "\n",
    "number_of_wins = [0] * NUM_OF_PLAYERS\n",
    "starting_positions = [(BOARD_SIZE/NUM_OF_PLAYERS)*(i) for i in range(NUM_OF_PLAYERS)]\n",
    "wining_positions = [(BOARD_SIZE/NUM_OF_PLAYERS)*(i+NUM_OF_PLAYERS) for i in range(NUM_OF_PLAYERS)]\n",
    "\n",
    "for i in range(NUM_OF_SIMULATIONS):\n",
    "    positions = [-1] * NUM_OF_PLAYERS\n",
    "    winner = play_game(positions, starting_positions, wining_positions)\n",
    "    number_of_wins[winner] += 1\n",
    "    \n",
    "total_games_count = sum(number_of_wins)\n",
    "winning_probabilities = [wins / total_games_count for wins in number_of_wins]\n",
    "\n",
    "for i in range(NUM_OF_PLAYERS):\n",
    "    print(\"Player \", i+1, \" winning probability is: \", winning_probabilities[i])\n",
    "\n",
    "x = np.arange(NUM_OF_PLAYERS)\n",
    "plt.bar(x, winning_probabilities)\n",
    "plt.xticks(x, ('Player 1', 'Player 2', 'Player 3', 'Player 4'))\n",
    "plt.ylabel('Winning Probability')\n",
    "plt.title('Winning Probability of each Player')\n",
    "plt.show()"
   ]
  },
  {
   "cell_type": "markdown",
   "metadata": {},
   "source": [
    "As we can see, the probability of winning is very close to 0.25 for each player. Thث wining probability increases for the players who start sooner, but the difference is very small. We assume that the reason for this is that the first players have a higher chance of starting the game sooner and thus have a higher chance of winning. If we increase the board size, the probability of winning will be closer to 0.25 for each player. In this case, the significance of the starting position will decrease."
   ]
  },
  {
   "cell_type": "markdown",
   "metadata": {},
   "source": [
    "**1. Read a little bit about the applications of Monte Carlo Simulation in real life. What are\n",
    "some of these applications?**  \n",
    "\n",
    "Monte Carlo simulations are used in many real-world situations. Here are some areas:  \n",
    "- Finance: A Monte Carlo simulation can be used to consider all the possible ups and downs of the market, giving you a better idea of how risky an investment might be. It also can be used in financial modeling, especially for pricing derivatives, and simulating stock prices.  \n",
    "- Insurance: Monte Carlo simulations are used for assessing risks. Setting premiums is also done using Monte Carlo simulation. Evaluation the likelihood of different events such as natural disasters or accidents is done by simulating various scenarios.  \n",
    "- Science & Health Care: Scientists use Monte Carlo simulations to model things such as spread of diseases, and optimizing healthcare resource allocation. It's a good alternative for complicated systems that would be challenging or costly to experiment with in physical reality.\n",
    "- Telecommunications: Network planning, capacity optimization, and assessing the performance of communication systems under conditions such as traffic fluctuations or equipment failures are done by companies using Monte Carlo simulations.\n",
    "- Project Management: Estimating project durations, costs, and risks and also identifying critical activities, resource allocation, and optimizing project schedules is done with the help of Monte Carlo simulations.\n",
    "- Engineering: Monte Carlo simulations are used to model the behavior of various systems, such as the flow of fluids, the strength of materials, and the reliability of systems. It's also used in the design of experiments and optimization of systems."
   ]
  },
  {
   "cell_type": "markdown",
   "metadata": {},
   "source": [
    "<!-- style only for h2 -->\n",
    "<style>\n",
    "h3 {\n",
    "        /* cyan code */\n",
    "        /* background-color: #008B8B; */\n",
    "        /* cyan code */\n",
    "        color: #008B8B;\n",
    "}\n",
    "\n",
    "\n",
    "p {\n",
    "    color: #FFFFFF;\n",
    "    font-size: 16px;\n",
    "    margin-bottom: 10px;\n",
    "}\n",
    "\n",
    "</style>\n",
    "\n",
    "### **Question 1: Read a little bit about the applications of Monte Carlo Simulation in real life. What are some of these applications?\n",
    "\n",
    "`Monte Carlo simulations are used in many real-world situations. Here are some areas:` \n",
    "- `Finance: A Monte Carlo simulation can be used to consider all the possible ups and downs of the market, giving you a better idea of how risky an investment might be. It also can be used in financial modeling, especially for pricing derivatives, and simulating stock prices.` \n",
    "- `Insurance: Monte Carlo simulations are used for assessing risks. Setting premiums is also done using Monte Carlo simulation. Evaluation the likelihood of different events such as natural disasters or accidents is done by simulating various scenarios.`\n",
    "- `Science & Health Care: Scientists use Monte Carlo simulations to model things such as spread of diseases, and optimizing healthcare resource allocation. It's a good alternative for complicated systems that would be challenging or costly to experiment with in physical reality.`\n",
    "- `Telecommunications: Network planning, capacity optimization, and assessing the performance of communication systems under conditions such as traffic fluctuations or equipment failures are done by companies using Monte Carlo simulations.`\n",
    "- `Project Management: Estimating project durations, costs, and risks and also identifying critical activities, resource allocation, and optimizing project schedules is done with the help of Monte Carlo simulations.`\n",
    "- `Engineering: Monte Carlo simulations are used to model the behavior of various systems, such as the flow of fluids, the strength of materials, and the reliability of systems. It's also used in the design of experiments and optimization of systems.`\n",
    "\n",
    "\n"
   ]
  }
 ],
 "metadata": {
  "kernelspec": {
   "display_name": "Python 3",
   "language": "python",
   "name": "python3"
  },
  "language_info": {
   "codemirror_mode": {
    "name": "ipython",
    "version": 3
   },
   "file_extension": ".py",
   "mimetype": "text/x-python",
   "name": "python",
   "nbconvert_exporter": "python",
   "pygments_lexer": "ipython3",
   "version": "3.10.4"
  },
  "orig_nbformat": 4
 },
 "nbformat": 4,
 "nbformat_minor": 2
}
